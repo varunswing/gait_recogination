{
  "nbformat": 4,
  "nbformat_minor": 0,
  "metadata": {
    "colab": {
      "name": "Gait Recognition Based on Multi-Layer Convolutional Neural Network.ipynb",
      "provenance": [],
      "collapsed_sections": []
    },
    "kernelspec": {
      "name": "python3",
      "display_name": "Python 3"
    },
    "language_info": {
      "name": "python"
    }
  },
  "cells": [
    {
      "cell_type": "code",
      "metadata": {
        "colab": {
          "base_uri": "https://localhost:8080/"
        },
        "id": "cVN5g1Xl4E9E",
        "outputId": "3fbe5939-5db7-4e56-e3b4-a701c146b1d7"
      },
      "source": [
        "from google.colab import drive\n",
        "drive.mount('/content/drive')"
      ],
      "execution_count": null,
      "outputs": [
        {
          "output_type": "stream",
          "text": [
            "Mounted at /content/drive\n"
          ],
          "name": "stdout"
        }
      ]
    },
    {
      "cell_type": "code",
      "metadata": {
        "id": "5HsfcrwkWNAa"
      },
      "source": [
        "from keras.preprocessing.image import load_img, img_to_array\n",
        "import numpy as np"
      ],
      "execution_count": null,
      "outputs": []
    },
    {
      "cell_type": "code",
      "metadata": {
        "id": "4Ddg9FRMWgse"
      },
      "source": [
        "src_dir=r'/content/drive/MyDrive/6th_sem_Minor_Project/MinorProject/Datasets/TreadmillDataset/train/'"
      ],
      "execution_count": null,
      "outputs": []
    },
    {
      "cell_type": "code",
      "metadata": {
        "id": "OuZW44WBX0zD"
      },
      "source": [
        "train_imgs = []\n",
        "train_labels = []\n",
        "test_imgs = []\n",
        "test_labels = []\n",
        "classes = []\n",
        "num_classes=10\n",
        "n_pics=240\n",
        "\n",
        "for i in range(1, num_classes+1):\n",
        "  if (i < 10):\n",
        "    stri = \"0000\" + str(i)+\"/\"\n",
        "  else:\n",
        "    stri = \"000\"+str(i)+\"/\"\n",
        "  classes.append(str(i))\n",
        "  for j in range(2,11):\n",
        "    strj=\"gallery_\"+str(j)+\"km/\"\n",
        "    strj2=\"probe_\"+str(j)+\"km/\"\n",
        "    for k in range(1,n_pics+1):\n",
        "      if (k < 10):\n",
        "        strk = \"0000000\" + str(k)\n",
        "      elif (k < 100):\n",
        "        strk = \"000000\" + str(k)\n",
        "      else:\n",
        "        strk = \"00000\" + str(k)\n",
        "      path = src_dir + stri + strj + strk + '.png'\n",
        "      img = load_img(path, target_size=(64, 64))\n",
        "      x3d = img_to_array(img)\n",
        "      x = np.expand_dims(x3d[:,:,0], axis=2)\n",
        "      train_imgs.append(x)\n",
        "      label = [0] * num_classes\n",
        "      label[i - 1] = 1\n",
        "      train_labels.append(label)\n",
        "\n",
        "      test_path = src_dir + stri + strj2 + strk + '.png'\n",
        "      img = load_img(test_path, target_size=(64, 64))\n",
        "      x3d = img_to_array(img)\n",
        "      x = np.expand_dims(x3d[:, :, 0], axis=2)\n",
        "      test_imgs.append(x)\n",
        "      label = [0] * num_classes\n",
        "      label[i - 1] = 1\n",
        "      test_labels.append(label)\n",
        "\n",
        "\n",
        "\n"
      ],
      "execution_count": null,
      "outputs": []
    },
    {
      "cell_type": "code",
      "metadata": {
        "id": "MUEhmn2gfjpo"
      },
      "source": [
        "x_train, y_train,x_test,y_test=np.array(train_imgs), np.array(train_labels),np.array(test_imgs), np.array(test_labels)"
      ],
      "execution_count": null,
      "outputs": []
    },
    {
      "cell_type": "code",
      "metadata": {
        "id": "MIE5PFiyjE4U"
      },
      "source": [
        " x_train = x_train.astype('float32')\n",
        "x_test = x_test.astype('float32')\n",
        "x_train /= 255\n",
        "x_test /= 255"
      ],
      "execution_count": null,
      "outputs": []
    },
    {
      "cell_type": "code",
      "metadata": {
        "id": "Y-4Zw4WSgG6F"
      },
      "source": [
        "from tensorflow.keras.models import Sequential\n",
        "from tensorflow.keras.layers import Conv2D, Activation, MaxPooling2D, Dense, Flatten, Dropout\n",
        "import tensorflow as tf"
      ],
      "execution_count": null,
      "outputs": []
    },
    {
      "cell_type": "code",
      "metadata": {
        "id": "f2ffrRHHghSp"
      },
      "source": [
        " model = Sequential()\n",
        "model.add(Conv2D(8, (5, 5), padding='valid',\n",
        "                 input_shape=(64, 64, 1)))\n",
        "model.add(Activation('tanh'))\n",
        "model.add(MaxPooling2D(pool_size=(2,2), strides=2, padding='valid'))\n",
        "model.add(Conv2D(8, (5, 5), padding='valid'))\n",
        "model.add(Activation('tanh'))\n",
        "model.add(MaxPooling2D(pool_size=(2,2), strides=2, padding='valid'))\n",
        "model.add(Conv2D(8, (5, 5), padding='valid'))\n",
        "model.add(Activation('tanh'))\n",
        "model.add(MaxPooling2D(pool_size=(2,2), strides=2, padding='valid'))\n",
        "model.add(Conv2D(8, (5, 5), padding='same'))\n",
        "model.add(Activation('tanh'))\n",
        "model.add(MaxPooling2D(pool_size=(2,2), strides=2, padding='valid'))\n",
        "model.add(Flatten())\n",
        "model.add(Dense(num_classes, input_shape=(200,)))\n",
        "model.add(Activation('softmax'))\n",
        "\n",
        "opt = tf.keras.optimizers.RMSprop(learning_rate=0.001)\n",
        "\n",
        "model.compile(loss='categorical_crossentropy',\n",
        "              optimizer=opt,\n",
        "              metrics=['accuracy'])"
      ],
      "execution_count": null,
      "outputs": []
    },
    {
      "cell_type": "code",
      "metadata": {
        "id": "T14JhhHXhZ-r",
        "colab": {
          "base_uri": "https://localhost:8080/"
        },
        "outputId": "331e7ce5-a52f-46c4-e145-40587099c609"
      },
      "source": [
        "model.summary()"
      ],
      "execution_count": null,
      "outputs": [
        {
          "output_type": "stream",
          "text": [
            "Model: \"sequential\"\n",
            "_________________________________________________________________\n",
            "Layer (type)                 Output Shape              Param #   \n",
            "=================================================================\n",
            "conv2d (Conv2D)              (None, 60, 60, 8)         208       \n",
            "_________________________________________________________________\n",
            "activation (Activation)      (None, 60, 60, 8)         0         \n",
            "_________________________________________________________________\n",
            "max_pooling2d (MaxPooling2D) (None, 30, 30, 8)         0         \n",
            "_________________________________________________________________\n",
            "conv2d_1 (Conv2D)            (None, 26, 26, 8)         1608      \n",
            "_________________________________________________________________\n",
            "activation_1 (Activation)    (None, 26, 26, 8)         0         \n",
            "_________________________________________________________________\n",
            "max_pooling2d_1 (MaxPooling2 (None, 13, 13, 8)         0         \n",
            "_________________________________________________________________\n",
            "conv2d_2 (Conv2D)            (None, 9, 9, 8)           1608      \n",
            "_________________________________________________________________\n",
            "activation_2 (Activation)    (None, 9, 9, 8)           0         \n",
            "_________________________________________________________________\n",
            "max_pooling2d_2 (MaxPooling2 (None, 4, 4, 8)           0         \n",
            "_________________________________________________________________\n",
            "conv2d_3 (Conv2D)            (None, 4, 4, 8)           1608      \n",
            "_________________________________________________________________\n",
            "activation_3 (Activation)    (None, 4, 4, 8)           0         \n",
            "_________________________________________________________________\n",
            "max_pooling2d_3 (MaxPooling2 (None, 2, 2, 8)           0         \n",
            "_________________________________________________________________\n",
            "flatten (Flatten)            (None, 32)                0         \n",
            "_________________________________________________________________\n",
            "dense (Dense)                (None, 10)                330       \n",
            "_________________________________________________________________\n",
            "activation_4 (Activation)    (None, 10)                0         \n",
            "=================================================================\n",
            "Total params: 5,362\n",
            "Trainable params: 5,362\n",
            "Non-trainable params: 0\n",
            "_________________________________________________________________\n"
          ],
          "name": "stdout"
        }
      ]
    },
    {
      "cell_type": "code",
      "metadata": {
        "id": "VoeFGKUpiyLH",
        "colab": {
          "base_uri": "https://localhost:8080/"
        },
        "outputId": "d016c662-b32b-464b-cfbe-03136dfff812"
      },
      "source": [
        "history=model.fit(x_train, y_train,batch_size=16,epochs=50,validation_data=(x_test,y_test))"
      ],
      "execution_count": null,
      "outputs": [
        {
          "output_type": "stream",
          "text": [
            "Epoch 1/50\n",
            "844/844 [==============================] - 38s 45ms/step - loss: 1.9687 - accuracy: 0.3148 - val_loss: 0.9990 - val_accuracy: 0.6986\n",
            "Epoch 2/50\n",
            "844/844 [==============================] - 37s 44ms/step - loss: 0.7895 - accuracy: 0.7659 - val_loss: 0.6319 - val_accuracy: 0.7964\n",
            "Epoch 3/50\n",
            "844/844 [==============================] - 37s 44ms/step - loss: 0.4142 - accuracy: 0.8783 - val_loss: 0.4881 - val_accuracy: 0.8400\n",
            "Epoch 4/50\n",
            "844/844 [==============================] - 38s 44ms/step - loss: 0.2636 - accuracy: 0.9247 - val_loss: 0.3971 - val_accuracy: 0.8667\n",
            "Epoch 5/50\n",
            "844/844 [==============================] - 37s 44ms/step - loss: 0.1862 - accuracy: 0.9473 - val_loss: 0.4215 - val_accuracy: 0.8569\n",
            "Epoch 6/50\n",
            "844/844 [==============================] - 37s 44ms/step - loss: 0.1456 - accuracy: 0.9577 - val_loss: 0.3530 - val_accuracy: 0.8759\n",
            "Epoch 7/50\n",
            "844/844 [==============================] - 37s 44ms/step - loss: 0.1119 - accuracy: 0.9677 - val_loss: 0.3736 - val_accuracy: 0.8720\n",
            "Epoch 8/50\n",
            "844/844 [==============================] - 37s 44ms/step - loss: 0.0960 - accuracy: 0.9749 - val_loss: 0.3804 - val_accuracy: 0.8765\n",
            "Epoch 9/50\n",
            "844/844 [==============================] - 37s 44ms/step - loss: 0.0795 - accuracy: 0.9774 - val_loss: 0.3840 - val_accuracy: 0.8735\n",
            "Epoch 10/50\n",
            "844/844 [==============================] - 37s 44ms/step - loss: 0.0678 - accuracy: 0.9800 - val_loss: 0.3257 - val_accuracy: 0.8951\n",
            "Epoch 11/50\n",
            "844/844 [==============================] - 38s 45ms/step - loss: 0.0572 - accuracy: 0.9820 - val_loss: 0.4030 - val_accuracy: 0.8741\n",
            "Epoch 12/50\n",
            "844/844 [==============================] - 37s 44ms/step - loss: 0.0480 - accuracy: 0.9883 - val_loss: 0.3297 - val_accuracy: 0.8981\n",
            "Epoch 13/50\n",
            "844/844 [==============================] - 37s 44ms/step - loss: 0.0440 - accuracy: 0.9865 - val_loss: 0.3748 - val_accuracy: 0.8873\n",
            "Epoch 14/50\n",
            "844/844 [==============================] - 38s 45ms/step - loss: 0.0373 - accuracy: 0.9898 - val_loss: 0.3605 - val_accuracy: 0.8928\n",
            "Epoch 15/50\n",
            "844/844 [==============================] - 38s 45ms/step - loss: 0.0359 - accuracy: 0.9900 - val_loss: 0.3700 - val_accuracy: 0.8947\n",
            "Epoch 16/50\n",
            "844/844 [==============================] - 38s 45ms/step - loss: 0.0285 - accuracy: 0.9922 - val_loss: 0.3410 - val_accuracy: 0.9031\n",
            "Epoch 17/50\n",
            "844/844 [==============================] - 38s 45ms/step - loss: 0.0283 - accuracy: 0.9927 - val_loss: 0.3779 - val_accuracy: 0.8950\n",
            "Epoch 18/50\n",
            "844/844 [==============================] - 38s 45ms/step - loss: 0.0254 - accuracy: 0.9933 - val_loss: 0.3578 - val_accuracy: 0.8999\n",
            "Epoch 19/50\n",
            "844/844 [==============================] - 38s 45ms/step - loss: 0.0251 - accuracy: 0.9932 - val_loss: 0.3588 - val_accuracy: 0.9018\n",
            "Epoch 20/50\n",
            "844/844 [==============================] - 38s 45ms/step - loss: 0.0229 - accuracy: 0.9940 - val_loss: 0.3672 - val_accuracy: 0.8967\n",
            "Epoch 21/50\n",
            "844/844 [==============================] - 37s 44ms/step - loss: 0.0229 - accuracy: 0.9932 - val_loss: 0.4005 - val_accuracy: 0.8967\n",
            "Epoch 22/50\n",
            "844/844 [==============================] - 37s 44ms/step - loss: 0.0178 - accuracy: 0.9952 - val_loss: 0.4172 - val_accuracy: 0.8907\n",
            "Epoch 23/50\n",
            "844/844 [==============================] - 38s 44ms/step - loss: 0.0166 - accuracy: 0.9948 - val_loss: 0.4432 - val_accuracy: 0.8847\n",
            "Epoch 24/50\n",
            "844/844 [==============================] - 38s 45ms/step - loss: 0.0134 - accuracy: 0.9972 - val_loss: 0.4100 - val_accuracy: 0.8984\n",
            "Epoch 25/50\n",
            "844/844 [==============================] - 37s 44ms/step - loss: 0.0186 - accuracy: 0.9948 - val_loss: 0.4326 - val_accuracy: 0.8915\n",
            "Epoch 26/50\n",
            "844/844 [==============================] - 38s 45ms/step - loss: 0.0168 - accuracy: 0.9946 - val_loss: 0.5334 - val_accuracy: 0.8720\n",
            "Epoch 27/50\n",
            "844/844 [==============================] - 38s 45ms/step - loss: 0.0177 - accuracy: 0.9945 - val_loss: 0.3961 - val_accuracy: 0.9012\n",
            "Epoch 28/50\n",
            "844/844 [==============================] - 38s 45ms/step - loss: 0.0147 - accuracy: 0.9960 - val_loss: 0.5188 - val_accuracy: 0.8780\n",
            "Epoch 29/50\n",
            "844/844 [==============================] - 38s 45ms/step - loss: 0.0138 - accuracy: 0.9962 - val_loss: 0.3973 - val_accuracy: 0.8999\n",
            "Epoch 30/50\n",
            "844/844 [==============================] - 38s 44ms/step - loss: 0.0115 - accuracy: 0.9975 - val_loss: 0.4416 - val_accuracy: 0.8988\n",
            "Epoch 31/50\n",
            "844/844 [==============================] - 38s 45ms/step - loss: 0.0124 - accuracy: 0.9964 - val_loss: 0.4106 - val_accuracy: 0.9031\n",
            "Epoch 32/50\n",
            "844/844 [==============================] - 38s 45ms/step - loss: 0.0121 - accuracy: 0.9966 - val_loss: 0.4147 - val_accuracy: 0.9061\n",
            "Epoch 33/50\n",
            "844/844 [==============================] - 38s 45ms/step - loss: 0.0103 - accuracy: 0.9972 - val_loss: 0.4129 - val_accuracy: 0.9043\n",
            "Epoch 34/50\n",
            "844/844 [==============================] - 38s 45ms/step - loss: 0.0107 - accuracy: 0.9970 - val_loss: 0.4792 - val_accuracy: 0.8893\n",
            "Epoch 35/50\n",
            "844/844 [==============================] - 38s 45ms/step - loss: 0.0117 - accuracy: 0.9966 - val_loss: 0.5158 - val_accuracy: 0.8859\n",
            "Epoch 36/50\n",
            "844/844 [==============================] - 38s 45ms/step - loss: 0.0116 - accuracy: 0.9973 - val_loss: 0.4332 - val_accuracy: 0.8954\n",
            "Epoch 37/50\n",
            "844/844 [==============================] - 38s 45ms/step - loss: 0.0111 - accuracy: 0.9964 - val_loss: 0.4748 - val_accuracy: 0.8920\n",
            "Epoch 38/50\n",
            "844/844 [==============================] - 38s 45ms/step - loss: 0.0135 - accuracy: 0.9958 - val_loss: 0.4639 - val_accuracy: 0.8984\n",
            "Epoch 39/50\n",
            "844/844 [==============================] - 38s 45ms/step - loss: 0.0083 - accuracy: 0.9979 - val_loss: 0.5608 - val_accuracy: 0.8796\n",
            "Epoch 40/50\n",
            "844/844 [==============================] - 38s 45ms/step - loss: 0.0088 - accuracy: 0.9973 - val_loss: 0.4618 - val_accuracy: 0.9009\n",
            "Epoch 41/50\n",
            "844/844 [==============================] - 38s 45ms/step - loss: 0.0106 - accuracy: 0.9968 - val_loss: 0.4803 - val_accuracy: 0.8910\n",
            "Epoch 42/50\n",
            "844/844 [==============================] - 38s 45ms/step - loss: 0.0089 - accuracy: 0.9969 - val_loss: 0.6095 - val_accuracy: 0.8808\n",
            "Epoch 43/50\n",
            "844/844 [==============================] - 38s 45ms/step - loss: 0.0136 - accuracy: 0.9951 - val_loss: 0.4717 - val_accuracy: 0.8966\n",
            "Epoch 44/50\n",
            "844/844 [==============================] - 38s 45ms/step - loss: 0.0086 - accuracy: 0.9977 - val_loss: 0.4940 - val_accuracy: 0.8967\n",
            "Epoch 45/50\n",
            "844/844 [==============================] - 38s 45ms/step - loss: 0.0080 - accuracy: 0.9974 - val_loss: 0.4916 - val_accuracy: 0.8994\n",
            "Epoch 46/50\n",
            "844/844 [==============================] - 38s 45ms/step - loss: 0.0094 - accuracy: 0.9968 - val_loss: 0.4579 - val_accuracy: 0.9008\n",
            "Epoch 47/50\n",
            "844/844 [==============================] - 38s 45ms/step - loss: 0.0085 - accuracy: 0.9974 - val_loss: 0.4516 - val_accuracy: 0.9028\n",
            "Epoch 48/50\n",
            "844/844 [==============================] - 38s 45ms/step - loss: 0.0074 - accuracy: 0.9977 - val_loss: 0.4555 - val_accuracy: 0.9012\n",
            "Epoch 49/50\n",
            "844/844 [==============================] - 38s 45ms/step - loss: 0.0090 - accuracy: 0.9975 - val_loss: 0.4575 - val_accuracy: 0.8997\n",
            "Epoch 50/50\n",
            "844/844 [==============================] - 38s 45ms/step - loss: 0.0091 - accuracy: 0.9970 - val_loss: 0.5444 - val_accuracy: 0.8895\n"
          ],
          "name": "stdout"
        }
      ]
    },
    {
      "cell_type": "code",
      "metadata": {
        "id": "aPCQPz__wrjP",
        "colab": {
          "base_uri": "https://localhost:8080/"
        },
        "outputId": "40b14c0a-4f8d-431e-ca22-70737fc778ad"
      },
      "source": [
        "history.history"
      ],
      "execution_count": null,
      "outputs": [
        {
          "output_type": "execute_result",
          "data": {
            "text/plain": [
              "{'accuracy': [0.4784444570541382,\n",
              "  0.7989629507064819,\n",
              "  0.8899258971214294,\n",
              "  0.9296296238899231,\n",
              "  0.9474814534187317,\n",
              "  0.9590370655059814,\n",
              "  0.9668889045715332,\n",
              "  0.9746666550636292,\n",
              "  0.9790370464324951,\n",
              "  0.9807407259941101,\n",
              "  0.9832592606544495,\n",
              "  0.9862222075462341,\n",
              "  0.9875555634498596,\n",
              "  0.9888888597488403,\n",
              "  0.9905925989151001,\n",
              "  0.9919259548187256,\n",
              "  0.9921481609344482,\n",
              "  0.9933333396911621,\n",
              "  0.9932592511177063,\n",
              "  0.9934074282646179,\n",
              "  0.9936296343803406,\n",
              "  0.9942222237586975,\n",
              "  0.9937777519226074,\n",
              "  0.9965184926986694,\n",
              "  0.995555579662323,\n",
              "  0.9944444298744202,\n",
              "  0.9946666955947876,\n",
              "  0.9961481690406799,\n",
              "  0.9949629902839661,\n",
              "  0.9971110820770264,\n",
              "  0.9961481690406799,\n",
              "  0.9954074025154114,\n",
              "  0.9967407584190369,\n",
              "  0.9963703751564026,\n",
              "  0.996222198009491,\n",
              "  0.9977037310600281,\n",
              "  0.996222198009491,\n",
              "  0.9959999918937683,\n",
              "  0.9977777600288391,\n",
              "  0.9970370531082153,\n",
              "  0.9965184926986694,\n",
              "  0.9968888759613037,\n",
              "  0.9969629645347595,\n",
              "  0.9974074363708496,\n",
              "  0.9973333477973938,\n",
              "  0.9968147873878479,\n",
              "  0.9968888759613037,\n",
              "  0.9969629645347595,\n",
              "  0.9968888759613037,\n",
              "  0.9973333477973938],\n",
              " 'loss': [1.5884102582931519,\n",
              "  0.6730889081954956,\n",
              "  0.37417536973953247,\n",
              "  0.24632702767848969,\n",
              "  0.1817162036895752,\n",
              "  0.14055056869983673,\n",
              "  0.11207697540521622,\n",
              "  0.0929156094789505,\n",
              "  0.07644801586866379,\n",
              "  0.06584173440933228,\n",
              "  0.056121036410331726,\n",
              "  0.05023765563964844,\n",
              "  0.04270443320274353,\n",
              "  0.0388839915394783,\n",
              "  0.034907590597867966,\n",
              "  0.02986464463174343,\n",
              "  0.02939590811729431,\n",
              "  0.024970080703496933,\n",
              "  0.025190770626068115,\n",
              "  0.023882891982793808,\n",
              "  0.02178090438246727,\n",
              "  0.019804734736680984,\n",
              "  0.019413961097598076,\n",
              "  0.014975856058299541,\n",
              "  0.01653110235929489,\n",
              "  0.017509078606963158,\n",
              "  0.017461121082305908,\n",
              "  0.01502115186303854,\n",
              "  0.016736438497900963,\n",
              "  0.011868339963257313,\n",
              "  0.013211248442530632,\n",
              "  0.01585463061928749,\n",
              "  0.011687091551721096,\n",
              "  0.011910988949239254,\n",
              "  0.013243268243968487,\n",
              "  0.009634406305849552,\n",
              "  0.01137426309287548,\n",
              "  0.01284150592982769,\n",
              "  0.009549980983138084,\n",
              "  0.010018827393651009,\n",
              "  0.010922243818640709,\n",
              "  0.009362749755382538,\n",
              "  0.01034867949783802,\n",
              "  0.009848177433013916,\n",
              "  0.00831601396203041,\n",
              "  0.009692467749118805,\n",
              "  0.009222823195159435,\n",
              "  0.009050789289176464,\n",
              "  0.009755382314324379,\n",
              "  0.00859127938747406],\n",
              " 'val_accuracy': [0.6985926032066345,\n",
              "  0.7964444160461426,\n",
              "  0.8399999737739563,\n",
              "  0.8666666746139526,\n",
              "  0.8568888902664185,\n",
              "  0.8758518695831299,\n",
              "  0.871999979019165,\n",
              "  0.8765185475349426,\n",
              "  0.8734814524650574,\n",
              "  0.895111083984375,\n",
              "  0.8740741014480591,\n",
              "  0.8980740904808044,\n",
              "  0.887333333492279,\n",
              "  0.8928148150444031,\n",
              "  0.8946666717529297,\n",
              "  0.9031111001968384,\n",
              "  0.8949629664421082,\n",
              "  0.899925947189331,\n",
              "  0.9017778038978577,\n",
              "  0.896740734577179,\n",
              "  0.8966666460037231,\n",
              "  0.890666663646698,\n",
              "  0.8846666812896729,\n",
              "  0.8983703851699829,\n",
              "  0.8914814591407776,\n",
              "  0.871999979019165,\n",
              "  0.9011852145195007,\n",
              "  0.878000020980835,\n",
              "  0.8998518586158752,\n",
              "  0.8988147974014282,\n",
              "  0.9031111001968384,\n",
              "  0.906074047088623,\n",
              "  0.9042962789535522,\n",
              "  0.8893333077430725,\n",
              "  0.8859259486198425,\n",
              "  0.8954073786735535,\n",
              "  0.8920000195503235,\n",
              "  0.8983703851699829,\n",
              "  0.8795555830001831,\n",
              "  0.9008888602256775,\n",
              "  0.8909629583358765,\n",
              "  0.880814790725708,\n",
              "  0.8965926170349121,\n",
              "  0.896740734577179,\n",
              "  0.8994073867797852,\n",
              "  0.9008148312568665,\n",
              "  0.9028148055076599,\n",
              "  0.9011852145195007,\n",
              "  0.8997036814689636,\n",
              "  0.8894814848899841],\n",
              " 'val_loss': [0.9990159869194031,\n",
              "  0.6319292783737183,\n",
              "  0.48813050985336304,\n",
              "  0.39714547991752625,\n",
              "  0.4215295910835266,\n",
              "  0.3530093729496002,\n",
              "  0.37358346581459045,\n",
              "  0.38042762875556946,\n",
              "  0.38400593400001526,\n",
              "  0.3257219195365906,\n",
              "  0.4030490815639496,\n",
              "  0.3297486901283264,\n",
              "  0.37480366230010986,\n",
              "  0.3604592978954315,\n",
              "  0.3700070083141327,\n",
              "  0.34101027250289917,\n",
              "  0.3779265284538269,\n",
              "  0.3578112721443176,\n",
              "  0.358837753534317,\n",
              "  0.3672485947608948,\n",
              "  0.40050941705703735,\n",
              "  0.4172104299068451,\n",
              "  0.44318142533302307,\n",
              "  0.4100044071674347,\n",
              "  0.43258845806121826,\n",
              "  0.5334312319755554,\n",
              "  0.3960554897785187,\n",
              "  0.5187885165214539,\n",
              "  0.3973383605480194,\n",
              "  0.4415578842163086,\n",
              "  0.41057735681533813,\n",
              "  0.4146915376186371,\n",
              "  0.4128861129283905,\n",
              "  0.4792080223560333,\n",
              "  0.5157978534698486,\n",
              "  0.4331909418106079,\n",
              "  0.4748098850250244,\n",
              "  0.4639057517051697,\n",
              "  0.560793399810791,\n",
              "  0.46176162362098694,\n",
              "  0.4802691638469696,\n",
              "  0.6095362901687622,\n",
              "  0.4716660976409912,\n",
              "  0.49404123425483704,\n",
              "  0.49157533049583435,\n",
              "  0.4578830897808075,\n",
              "  0.45164385437965393,\n",
              "  0.45554015040397644,\n",
              "  0.4575137495994568,\n",
              "  0.5443857312202454]}"
            ]
          },
          "metadata": {
            "tags": []
          },
          "execution_count": 11
        }
      ]
    },
    {
      "cell_type": "code",
      "metadata": {
        "id": "_Gi-XLMDpAxl",
        "colab": {
          "base_uri": "https://localhost:8080/"
        },
        "outputId": "9d15a72c-0772-4595-947c-c0dd1068c929"
      },
      "source": [
        "score=model.evaluate(x_test,y_test)"
      ],
      "execution_count": null,
      "outputs": [
        {
          "output_type": "stream",
          "text": [
            "422/422 [==============================] - 8s 20ms/step - loss: 0.5444 - accuracy: 0.8895\n"
          ],
          "name": "stdout"
        }
      ]
    },
    {
      "cell_type": "code",
      "metadata": {
        "id": "-g62QlK9vvXo",
        "colab": {
          "base_uri": "https://localhost:8080/",
          "height": 573
        },
        "outputId": "24aabaeb-53cf-4e24-d530-b866b1da20fd"
      },
      "source": [
        "#importing library for plotting graph\n",
        "import matplotlib.pyplot as plt\n",
        "\n",
        "#Plotting Model accuracy on training and testing dataset with epochs\n",
        "plt.plot(history.history['accuracy'])\n",
        "plt.plot(history.history['val_accuracy'])\n",
        "\n",
        "plt.title('model accuracy')\n",
        "plt.ylabel('accuracy')\n",
        "plt.xlabel('epoch')\n",
        "plt.legend(['train','test'], loc='upper left')\n",
        "plt.show()\n",
        "\n",
        "#Plotting Model Loss on training and testing dataset with epochs\n",
        "plt.plot(history.history['loss'])\n",
        "plt.plot(history.history['val_loss'])\n",
        "\n",
        "plt.title('model loss')\n",
        "plt.ylabel('loss')\n",
        "plt.xlabel('epoch')\n",
        "plt.legend(['train','test'], loc='upper left')\n",
        "plt.show()"
      ],
      "execution_count": null,
      "outputs": [
        {
          "output_type": "display_data",
          "data": {
            "image/png": "[encoded data removed]",
            "text/plain": [
              "<Figure size 432x288 with 1 Axes>"
            ]
          },
          "metadata": {
            "tags": [],
            "needs_background": "light"
          }
        },
        {
          "output_type": "display_data",
          "data": {
            "image/png": "[encoded data removed]",
            "text/plain": [
              "<Figure size 432x288 with 1 Axes>"
            ]
          },
          "metadata": {
            "tags": [],
            "needs_background": "light"
          }
        }
      ]
    },
    {
      "cell_type": "code",
      "metadata": {
        "id": "UO-1h1Uojm5t"
      },
      "source": [
        "y_pred=model.predict(x_test)"
      ],
      "execution_count": null,
      "outputs": []
    },
    {
      "cell_type": "code",
      "metadata": {
        "id": "-GgJiq1-nArX",
        "colab": {
          "base_uri": "https://localhost:8080/"
        },
        "outputId": "0f7b721b-a520-42ed-d277-51236434ede5"
      },
      "source": [
        "predicted=y_pred.argmax(axis=1)+1\n",
        "predicted"
      ],
      "execution_count": null,
      "outputs": [
        {
          "output_type": "execute_result",
          "data": {
            "text/plain": [
              "array([ 1,  1,  1, ..., 10, 10, 10])"
            ]
          },
          "metadata": {
            "tags": []
          },
          "execution_count": 15
        }
      ]
    },
    {
      "cell_type": "code",
      "metadata": {
        "id": "sOLarW-QoehU"
      },
      "source": [
        "real=y_test.argmax(axis=1)+1"
      ],
      "execution_count": null,
      "outputs": []
    },
    {
      "cell_type": "code",
      "metadata": {
        "id": "MB30s2zPoWTB",
        "colab": {
          "base_uri": "https://localhost:8080/"
        },
        "outputId": "f101f16f-1bd1-47ef-a75a-5f5f88495b8f"
      },
      "source": [
        "from sklearn.metrics import classification_report\n",
        "print(classification_report(real,predicted,target_names=classes))"
      ],
      "execution_count": null,
      "outputs": [
        {
          "output_type": "stream",
          "text": [
            "              precision    recall  f1-score   support\n",
            "\n",
            "           1       0.99      0.98      0.98      1350\n",
            "           2       0.77      0.94      0.84      1350\n",
            "           3       0.77      0.95      0.85      1350\n",
            "           4       0.88      0.86      0.87      1350\n",
            "           5       0.98      0.81      0.88      1350\n",
            "           6       0.96      0.95      0.96      1350\n",
            "           7       0.85      0.79      0.82      1350\n",
            "           8       0.95      0.91      0.93      1350\n",
            "           9       0.86      0.90      0.88      1350\n",
            "          10       0.96      0.80      0.88      1350\n",
            "\n",
            "    accuracy                           0.89     13500\n",
            "   macro avg       0.90      0.89      0.89     13500\n",
            "weighted avg       0.90      0.89      0.89     13500\n",
            "\n"
          ],
          "name": "stdout"
        }
      ]
    },
    {
      "cell_type": "code",
      "metadata": {
        "id": "VazzNEDxp4qk",
        "colab": {
          "base_uri": "https://localhost:8080/"
        },
        "outputId": "62068b56-7962-4a14-fa71-f7f6ec852bf5"
      },
      "source": [
        "!pip install mlxtend==0.17.0"
      ],
      "execution_count": null,
      "outputs": [
        {
          "output_type": "stream",
          "text": [
            "Collecting mlxtend==0.17.0\n",
            "\u001b[?25l  Downloading https://files.pythonhosted.org/packages/52/04/c362f34f666f0ddc7cf593805e64d64fa670ed96fd9302e68549dd48287d/mlxtend-0.17.0-py2.py3-none-any.whl (1.3MB)\n",
            "\u001b[K     |████████████████████████████████| 1.3MB 28.4MB/s \n",
            "\u001b[?25hRequirement already satisfied: matplotlib>=3.0.0 in /usr/local/lib/python3.7/dist-packages (from mlxtend==0.17.0) (3.2.2)\n",
            "Requirement already satisfied: setuptools in /usr/local/lib/python3.7/dist-packages (from mlxtend==0.17.0) (56.1.0)\n",
            "Requirement already satisfied: scipy>=1.2.1 in /usr/local/lib/python3.7/dist-packages (from mlxtend==0.17.0) (1.4.1)\n",
            "Requirement already satisfied: scikit-learn>=0.20.3 in /usr/local/lib/python3.7/dist-packages (from mlxtend==0.17.0) (0.22.2.post1)\n",
            "Requirement already satisfied: pandas>=0.24.2 in /usr/local/lib/python3.7/dist-packages (from mlxtend==0.17.0) (1.1.5)\n",
            "Requirement already satisfied: joblib>=0.13.2 in /usr/local/lib/python3.7/dist-packages (from mlxtend==0.17.0) (1.0.1)\n",
            "Requirement already satisfied: numpy>=1.16.2 in /usr/local/lib/python3.7/dist-packages (from mlxtend==0.17.0) (1.19.5)\n",
            "Requirement already satisfied: python-dateutil>=2.1 in /usr/local/lib/python3.7/dist-packages (from matplotlib>=3.0.0->mlxtend==0.17.0) (2.8.1)\n",
            "Requirement already satisfied: pyparsing!=2.0.4,!=2.1.2,!=2.1.6,>=2.0.1 in /usr/local/lib/python3.7/dist-packages (from matplotlib>=3.0.0->mlxtend==0.17.0) (2.4.7)\n",
            "Requirement already satisfied: cycler>=0.10 in /usr/local/lib/python3.7/dist-packages (from matplotlib>=3.0.0->mlxtend==0.17.0) (0.10.0)\n",
            "Requirement already satisfied: kiwisolver>=1.0.1 in /usr/local/lib/python3.7/dist-packages (from matplotlib>=3.0.0->mlxtend==0.17.0) (1.3.1)\n",
            "Requirement already satisfied: pytz>=2017.2 in /usr/local/lib/python3.7/dist-packages (from pandas>=0.24.2->mlxtend==0.17.0) (2018.9)\n",
            "Requirement already satisfied: six>=1.5 in /usr/local/lib/python3.7/dist-packages (from python-dateutil>=2.1->matplotlib>=3.0.0->mlxtend==0.17.0) (1.15.0)\n",
            "Installing collected packages: mlxtend\n",
            "  Found existing installation: mlxtend 0.14.0\n",
            "    Uninstalling mlxtend-0.14.0:\n",
            "      Successfully uninstalled mlxtend-0.14.0\n",
            "Successfully installed mlxtend-0.17.0\n"
          ],
          "name": "stdout"
        }
      ]
    },
    {
      "cell_type": "code",
      "metadata": {
        "id": "I-LxV6hFqLho",
        "colab": {
          "base_uri": "https://localhost:8080/",
          "height": 938
        },
        "outputId": "cf509ca5-6b5e-47b3-a98b-490ef7471d68"
      },
      "source": [
        "from mlxtend.plotting import plot_confusion_matrix\n",
        "from sklearn.metrics import confusion_matrix\n",
        "import matplotlib.pyplot as plt\n",
        "\n",
        "mat=confusion_matrix(real, predicted)\n",
        "fig, ax = plot_confusion_matrix(conf_mat=mat,figsize=(20,16),colorbar=True,show_normed=True,class_names=classes)\n",
        "plt.show()"
      ],
      "execution_count": null,
      "outputs": [
        {
          "output_type": "display_data",
          "data": {
            "image/png": "[encoded data removed]",
            "text/plain": [
              "<Figure size 1440x1152 with 2 Axes>"
            ]
          },
          "metadata": {
            "tags": [],
            "needs_background": "light"
          }
        }
      ]
    },
    {
      "cell_type": "code",
      "metadata": {
        "id": "YMb1rjvu1rgf"
      },
      "source": [
        ""
      ],
      "execution_count": null,
      "outputs": []
    }
  ]
}